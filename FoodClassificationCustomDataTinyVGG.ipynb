{
  "cells": [
    {
      "cell_type": "markdown",
      "metadata": {
        "id": "view-in-github",
        "colab_type": "text"
      },
      "source": [
        "<a href=\"https://colab.research.google.com/github/alinorouziani/FoodClassificationCustomDataTinyVGG/blob/main/FoodClassificationCustomDataTinyVGG.ipynb\" target=\"_parent\"><img src=\"https://colab.research.google.com/assets/colab-badge.svg\" alt=\"Open In Colab\"/></a>"
      ]
    },
    {
      "cell_type": "code",
      "source": [
        "import torch\n",
        "device = \"cuda\" if torch.cuda.is_available() else \"cpu\"\n",
        "print(f\"The device is on: {device}\")"
      ],
      "metadata": {
        "colab": {
          "base_uri": "https://localhost:8080/"
        },
        "id": "eUKhUCtcm97h",
        "outputId": "f059cad7-e399-4f19-eb8d-bd2f79e382ee"
      },
      "execution_count": 1,
      "outputs": [
        {
          "output_type": "stream",
          "name": "stdout",
          "text": [
            "The device is on: cuda\n"
          ]
        }
      ]
    },
    {
      "cell_type": "code",
      "source": [
        "import requests\n",
        "import zipfile\n",
        "from pathlib import Path\n",
        "\n",
        "data_path = Path(\"data/\")\n",
        "image_path = data_path / \"pizza_steak_sushi\"\n",
        "\n",
        "if image_path.is_dir():\n",
        "    print(f\"{image_path} directory already exists.\")\n",
        "else:\n",
        "    print(f\"Creating {image_path} directory...\")\n",
        "    image_path.mkdir(parents=True, exist_ok=True)\n",
        "\n",
        "with open(data_path / \"pizza_steak_sushi.zip\", \"wb\") as f:\n",
        "  request = requests.get(\"https://github.com/mrdbourke/pytorch-deep-learning/raw/main/data/pizza_steak_sushi.zip\")\n",
        "  print(\"Downloading the data...\")\n",
        "  f.write(request.content)\n",
        "\n",
        "with zipfile.ZipFile(data_path / \"pizza_steak_sushi.zip\", \"r\") as zip:\n",
        "  print(\"Unzipping the file...\")\n",
        "  zip.extractall(image_path)"
      ],
      "metadata": {
        "colab": {
          "base_uri": "https://localhost:8080/"
        },
        "id": "rm_RolP8nOI6",
        "outputId": "50239cc5-f6c9-4265-cb98-7421788b7589"
      },
      "execution_count": 2,
      "outputs": [
        {
          "output_type": "stream",
          "name": "stdout",
          "text": [
            "Creating data/pizza_steak_sushi directory...\n",
            "Downloading the data...\n",
            "Unzipping the file...\n"
          ]
        }
      ]
    },
    {
      "cell_type": "code",
      "source": [
        "import os\n",
        "def walk_through_dir(dir_path):\n",
        "  for dirpath, dirnames, filenames in os.walk(dir_path):\n",
        "    print(f\"There are{len(dirnames)} diretories and {len(filenames)} image in {dirpath}.\")\n",
        "\n",
        "walk_through_dir(image_path)"
      ],
      "metadata": {
        "colab": {
          "base_uri": "https://localhost:8080/"
        },
        "id": "ePR7tsWjoW2c",
        "outputId": "d5dcaf25-cac8-434e-967a-316ecf37a51b"
      },
      "execution_count": 3,
      "outputs": [
        {
          "output_type": "stream",
          "name": "stdout",
          "text": [
            "There are2 diretories and 0 image in data/pizza_steak_sushi.\n",
            "There are3 diretories and 0 image in data/pizza_steak_sushi/test.\n",
            "There are0 diretories and 19 image in data/pizza_steak_sushi/test/steak.\n",
            "There are0 diretories and 25 image in data/pizza_steak_sushi/test/pizza.\n",
            "There are0 diretories and 31 image in data/pizza_steak_sushi/test/sushi.\n",
            "There are3 diretories and 0 image in data/pizza_steak_sushi/train.\n",
            "There are0 diretories and 75 image in data/pizza_steak_sushi/train/steak.\n",
            "There are0 diretories and 78 image in data/pizza_steak_sushi/train/pizza.\n",
            "There are0 diretories and 72 image in data/pizza_steak_sushi/train/sushi.\n"
          ]
        }
      ]
    },
    {
      "cell_type": "code",
      "source": [
        "train_dir = image_path / \"train\"\n",
        "test_dir = image_path / \"test\""
      ],
      "metadata": {
        "id": "t0lN0YKvo7SV"
      },
      "execution_count": 4,
      "outputs": []
    },
    {
      "cell_type": "code",
      "source": [
        "from torch.utils.data import DataLoader\n",
        "from torchvision import datasets, transforms\n",
        "\n",
        "transform = transforms.Compose([\n",
        "    transforms.Resize((64, 64)),\n",
        "    transforms.RandomHorizontalFlip(p=0.5),\n",
        "    transforms.ToTensor()\n",
        "])\n",
        "\n",
        "train_data = datasets.ImageFolder(root=train_dir, transform=transform, target_transform=None)\n",
        "test_data = datasets.ImageFolder(root=test_dir, transform=transform, target_transform=None)\n",
        "class_names = train_data.classes\n",
        "\n",
        "train_dataloader = DataLoader(dataset=train_data, batch_size=1, num_workers=os.cpu_count(), shuffle=True)\n",
        "test_dataloader = DataLoader(dataset=test_data, batch_size=1, num_workers=os.cpu_count(), shuffle=False)"
      ],
      "metadata": {
        "id": "dq0RoFg-pPaV"
      },
      "execution_count": 5,
      "outputs": []
    },
    {
      "cell_type": "code",
      "source": [
        "img, label = next(iter(train_dataloader))\n",
        "print(f\"Image shape: {img.shape}\")\n",
        "print(f\"Label shape: {label.shape}\")"
      ],
      "metadata": {
        "colab": {
          "base_uri": "https://localhost:8080/"
        },
        "id": "8KE5-uk4qVTa",
        "outputId": "43c94228-5600-4184-bb6e-fb3f50151d74"
      },
      "execution_count": 6,
      "outputs": [
        {
          "output_type": "stream",
          "name": "stdout",
          "text": [
            "Image shape: torch.Size([1, 3, 64, 64])\n",
            "Label shape: torch.Size([1])\n"
          ]
        }
      ]
    },
    {
      "cell_type": "code",
      "source": [
        "from torch import nn\n",
        "class TinyVGG(nn.Module):\n",
        "  def __init__(self, input_shape, hidden_units, output_shape):\n",
        "    super().__init__()\n",
        "    self.conv_block_1 = nn.Sequential(\n",
        "        nn.Conv2d(in_channels=input_shape, out_channels=hidden_units, kernel_size=3, stride=1, padding=1),\n",
        "        nn.ReLU(),\n",
        "        nn.Conv2d(in_channels=hidden_units, out_channels=hidden_units, kernel_size=3, stride=1, padding=1),\n",
        "        nn.ReLU(),\n",
        "        nn.MaxPool2d(kernel_size=2, stride=2)\n",
        "    )\n",
        "    self.conv_block_2 = nn.Sequential(\n",
        "        nn.Conv2d(in_channels=hidden_units, out_channels=hidden_units, kernel_size=3, stride=1, padding=1),\n",
        "        nn.ReLU(),\n",
        "        nn.Conv2d(in_channels=hidden_units, out_channels=hidden_units, kernel_size=3, stride=1, padding=1),\n",
        "        nn.ReLU(),\n",
        "        nn.MaxPool2d(kernel_size=2, stride=2)\n",
        "    )\n",
        "    self.classifier = nn.Sequential(\n",
        "        nn.Flatten(),\n",
        "        nn.Linear(in_features=hidden_units*16*16, out_features=output_shape)\n",
        "    )\n",
        "  def forward(self, x):\n",
        "    return self.classifier(self.conv_block_2(self.conv_block_1(x)))\n",
        ""
      ],
      "metadata": {
        "id": "Dl2ecMe6qf3Q"
      },
      "execution_count": 7,
      "outputs": []
    },
    {
      "cell_type": "code",
      "source": [
        "model = TinyVGG(input_shape=3, hidden_units=10, output_shape=len(class_names)).to(device)"
      ],
      "metadata": {
        "id": "IUR4jksfrSEL"
      },
      "execution_count": 8,
      "outputs": []
    },
    {
      "cell_type": "code",
      "source": [
        "from tqdm.auto import tqdm\n",
        "\n",
        "def train_step(model, dataloader, loss_fn, optimizer, device):\n",
        "  model.train()\n",
        "  train_loss, train_acc = 0, 0\n",
        "  for batch, (X, y) in enumerate(dataloader):\n",
        "    X, y = X.to(device), y.to(device)\n",
        "    y_pred = model(X)\n",
        "    loss = loss_fn(y_pred, y)\n",
        "    train_loss += loss.item()\n",
        "    optimizer.zero_grad()\n",
        "    loss.backward()\n",
        "    optimizer.step()\n",
        "    y_pred_class = torch.argmax(torch.softmax(y_pred, dim=1), dim=1)\n",
        "    train_acc += (y_pred_class == y).sum().item()/len(y_pred)\n",
        "  train_loss /= len(dataloader)\n",
        "  train_acc /= len(dataloader)\n",
        "  return train_loss, train_acc\n",
        "\n",
        "def test_step(model, dataloader, loss_fn, device):\n",
        "  model.eval()\n",
        "  test_loss, test_acc = 0, 0\n",
        "  with torch.inference_mode():\n",
        "    for batch, (X, y) in enumerate(dataloader):\n",
        "      X, y = X.to(device), y.to(device)\n",
        "      test_pred_logits = model(X)\n",
        "      loss = loss_fn(test_pred_logits, y)\n",
        "      test_loss += loss.item()\n",
        "      test_pred_labels = test_pred_logits.argmax(dim=1)\n",
        "      test_acc += (test_pred_labels == y).sum().item()/len(test_pred_labels)\n",
        "  test_loss /= len(dataloader)\n",
        "  test_acc /= len(dataloader)\n",
        "  return test_loss, test_acc\n",
        "\n",
        "def train(model, train_dataloader, test_dataloader, optimizer, loss_fn, epochs, device):\n",
        "  results = {\"train_loss\":[], \"train_acc\":[], \"test_loss\":[], \"test_acc\":[]}\n",
        "  for epoch in tqdm(range(epochs)):\n",
        "    train_loss, train_acc = train_step(model, train_dataloader, loss_fn, optimizer, device)\n",
        "    test_loss, test_acc = test_step(model, test_dataloader, loss_fn, device)\n",
        "    print(f\"Epoch: {epoch+1} | Train loss: {train_loss:.4f} | Train acc: {train_acc:.4f} | Test loss: {test_loss:.4f} | Test acc: {test_acc:.4f}\")\n",
        "    results[\"train_loss\"].append(train_loss)\n",
        "    results[\"train_acc\"].append(train_acc)\n",
        "    results[\"test_loss\"].append(test_loss)\n",
        "    results[\"test_acc\"].append(test_acc)\n",
        "  return results"
      ],
      "metadata": {
        "id": "WtzXWmQvv8wL"
      },
      "execution_count": 10,
      "outputs": []
    },
    {
      "cell_type": "code",
      "source": [
        "loss_fn = nn.CrossEntropyLoss()\n",
        "optimizer = torch.optim.Adam(params=model.parameters(), lr=0.001)\n",
        "epochs = 20\n",
        "results = train(model, train_dataloader, test_dataloader, optimizer, loss_fn, epochs, device)"
      ],
      "metadata": {
        "colab": {
          "base_uri": "https://localhost:8080/",
          "height": 396,
          "referenced_widgets": [
            "0f209d81b06047febcf819346dd80b00",
            "dd7964a6b88c45b4bdcf1ac1d56cdb6d",
            "62b36701771d456081619c93718fa06d",
            "8c7b6f5d89cf426db51c5fb4f81faab2",
            "4b6bd61e834d40feb2fa4597ef217da3",
            "edc9c6f3f04f4567b915f0bf72502dd4",
            "85c28e17dfd74718a4d3c7f7bcf937f6",
            "fbb369a343474932add2427b87ab5a52",
            "921c969eb0a0412d8b1b6c91ef99c5d3",
            "9ffcca14c32844478ddac3e64835a6c0",
            "5057ec98f18d4778af131974e2ab1e37"
          ]
        },
        "id": "HsuOp0F5tHsx",
        "outputId": "ea85ad15-6426-43a9-9864-b52a82efa156"
      },
      "execution_count": 13,
      "outputs": [
        {
          "output_type": "display_data",
          "data": {
            "text/plain": [
              "  0%|          | 0/20 [00:00<?, ?it/s]"
            ],
            "application/vnd.jupyter.widget-view+json": {
              "version_major": 2,
              "version_minor": 0,
              "model_id": "0f209d81b06047febcf819346dd80b00"
            }
          },
          "metadata": {}
        },
        {
          "output_type": "stream",
          "name": "stdout",
          "text": [
            "Epoch: 1 | Train loss: 0.0036 | Train acc: 1.0000 | Test loss: 7.6139 | Test acc: 0.4533\n",
            "Epoch: 2 | Train loss: 0.0546 | Train acc: 0.9867 | Test loss: 9.1333 | Test acc: 0.4800\n",
            "Epoch: 3 | Train loss: 0.0202 | Train acc: 0.9911 | Test loss: 6.5208 | Test acc: 0.5467\n",
            "Epoch: 4 | Train loss: 0.1034 | Train acc: 0.9778 | Test loss: 6.0790 | Test acc: 0.5467\n",
            "Epoch: 5 | Train loss: 0.2119 | Train acc: 0.9556 | Test loss: 5.9877 | Test acc: 0.4933\n",
            "Epoch: 6 | Train loss: 0.0237 | Train acc: 0.9911 | Test loss: 5.1874 | Test acc: 0.5067\n",
            "Epoch: 7 | Train loss: 0.0501 | Train acc: 0.9822 | Test loss: 5.2951 | Test acc: 0.5067\n",
            "Epoch: 8 | Train loss: 0.0058 | Train acc: 1.0000 | Test loss: 4.3586 | Test acc: 0.5333\n",
            "Epoch: 9 | Train loss: 0.0014 | Train acc: 1.0000 | Test loss: 4.8921 | Test acc: 0.5733\n",
            "Epoch: 10 | Train loss: 0.0023 | Train acc: 1.0000 | Test loss: 5.0370 | Test acc: 0.4933\n",
            "Epoch: 11 | Train loss: 0.0010 | Train acc: 1.0000 | Test loss: 5.0130 | Test acc: 0.5467\n",
            "Epoch: 12 | Train loss: 0.0007 | Train acc: 1.0000 | Test loss: 5.2718 | Test acc: 0.5600\n",
            "Epoch: 13 | Train loss: 0.0005 | Train acc: 1.0000 | Test loss: 5.5223 | Test acc: 0.5200\n",
            "Epoch: 14 | Train loss: 0.0004 | Train acc: 1.0000 | Test loss: 5.4220 | Test acc: 0.5067\n",
            "Epoch: 15 | Train loss: 0.0003 | Train acc: 1.0000 | Test loss: 5.3463 | Test acc: 0.4933\n",
            "Epoch: 16 | Train loss: 0.0003 | Train acc: 1.0000 | Test loss: 5.4905 | Test acc: 0.5333\n",
            "Epoch: 17 | Train loss: 0.0003 | Train acc: 1.0000 | Test loss: 5.2657 | Test acc: 0.5733\n",
            "Epoch: 18 | Train loss: 0.0002 | Train acc: 1.0000 | Test loss: 5.3193 | Test acc: 0.5333\n",
            "Epoch: 19 | Train loss: 0.0003 | Train acc: 1.0000 | Test loss: 5.6022 | Test acc: 0.4933\n",
            "Epoch: 20 | Train loss: 0.0001 | Train acc: 1.0000 | Test loss: 5.8568 | Test acc: 0.5333\n"
          ]
        }
      ]
    },
    {
      "cell_type": "markdown",
      "source": [
        "**Now you can upload a picture and let the model predict what it is:**"
      ],
      "metadata": {
        "id": "LsExiGt3u57Z"
      }
    },
    {
      "cell_type": "code",
      "source": [
        "import torchvision\n",
        "img = torchvision.io.read_image(\"/content/steak.jpg\")\n",
        "img"
      ],
      "metadata": {
        "colab": {
          "base_uri": "https://localhost:8080/"
        },
        "id": "xOcs0ZHLtZQG",
        "outputId": "4e4aef38-aa1e-4e8e-98f4-4a5c6e654597"
      },
      "execution_count": 21,
      "outputs": [
        {
          "output_type": "execute_result",
          "data": {
            "text/plain": [
              "tensor([[[239, 239, 239,  ..., 249, 249, 249],\n",
              "         [239, 239, 239,  ..., 249, 249, 249],\n",
              "         [239, 239, 239,  ..., 249, 249, 249],\n",
              "         ...,\n",
              "         [159, 158, 157,  ..., 213, 213, 214],\n",
              "         [171, 170, 169,  ..., 209, 209, 209],\n",
              "         [180, 179, 176,  ..., 206, 206, 206]],\n",
              "\n",
              "        [[240, 240, 240,  ..., 218, 218, 218],\n",
              "         [240, 240, 240,  ..., 218, 218, 218],\n",
              "         [240, 240, 240,  ..., 219, 219, 219],\n",
              "         ...,\n",
              "         [111, 110, 109,  ..., 158, 158, 159],\n",
              "         [123, 122, 121,  ..., 154, 154, 154],\n",
              "         [132, 131, 128,  ..., 151, 151, 151]],\n",
              "\n",
              "        [[234, 234, 234,  ..., 213, 213, 213],\n",
              "         [234, 234, 234,  ..., 213, 213, 213],\n",
              "         [234, 234, 234,  ..., 211, 211, 211],\n",
              "         ...,\n",
              "         [ 89,  88,  87,  ..., 138, 138, 139],\n",
              "         [101, 100,  99,  ..., 134, 134, 134],\n",
              "         [110, 109, 106,  ..., 131, 131, 131]]], dtype=torch.uint8)"
            ]
          },
          "metadata": {},
          "execution_count": 21
        }
      ]
    },
    {
      "cell_type": "code",
      "source": [
        "import matplotlib.pyplot as plt\n",
        "model.eval()\n",
        "with torch.inference_mode():\n",
        "  img = img.type(torch.float32) / 255.0\n",
        "  resize = transforms.Resize((64,64))\n",
        "  img = resize(img)\n",
        "  batch = img.unsqueeze(0).to(device)\n",
        "  y_pred_logits = model(batch)\n",
        "  pred_label = torch.argmax(y_pred_logits, dim=1)\n",
        "\n",
        "plt.imshow(img.permute(1,2,0))\n",
        "plt.title(f\"Prediction: {class_names[pred_label]}\")\n",
        "plt.axis(False)"
      ],
      "metadata": {
        "colab": {
          "base_uri": "https://localhost:8080/",
          "height": 445
        },
        "id": "qxEZQh38vX4j",
        "outputId": "17931128-6e57-4559-ca43-f7a1f95675df"
      },
      "execution_count": 22,
      "outputs": [
        {
          "output_type": "execute_result",
          "data": {
            "text/plain": [
              "(-0.5, 63.5, 63.5, -0.5)"
            ]
          },
          "metadata": {},
          "execution_count": 22
        },
        {
          "output_type": "display_data",
          "data": {
            "text/plain": [
              "<Figure size 640x480 with 1 Axes>"
            ],
            "image/png": "[encoded data removed]"
          },
          "metadata": {}
        }
      ]
    },
    {
      "cell_type": "code",
      "source": [],
      "metadata": {
        "id": "3PxIp62jv5qb"
      },
      "execution_count": null,
      "outputs": []
    }
  ],
  "metadata": {
    "colab": {
      "provenance": [],
      "gpuType": "T4",
      "authorship_tag": "ABX9TyPns+uCfBZxMfusrCb3gCtn",
      "include_colab_link": true
    },
    "kernelspec": {
      "display_name": "Python 3",
      "name": "python3"
    },
    "language_info": {
      "name": "python"
    },
    "widgets": {
      "application/vnd.jupyter.widget-state+json": {
        "0f209d81b06047febcf819346dd80b00": {
          "model_module": "@jupyter-widgets/controls",
          "model_name": "HBoxModel",
          "model_module_version": "1.5.0",
          "state": {
            "_dom_classes": [],
            "_model_module": "@jupyter-widgets/controls",
            "_model_module_version": "1.5.0",
            "_model_name": "HBoxModel",
            "_view_count": null,
            "_view_module": "@jupyter-widgets/controls",
            "_view_module_version": "1.5.0",
            "_view_name": "HBoxView",
            "box_style": "",
            "children": [
              "IPY_MODEL_dd7964a6b88c45b4bdcf1ac1d56cdb6d",
              "IPY_MODEL_62b36701771d456081619c93718fa06d",
              "IPY_MODEL_8c7b6f5d89cf426db51c5fb4f81faab2"
            ],
            "layout": "IPY_MODEL_4b6bd61e834d40feb2fa4597ef217da3"
          }
        },
        "dd7964a6b88c45b4bdcf1ac1d56cdb6d": {
          "model_module": "@jupyter-widgets/controls",
          "model_name": "HTMLModel",
          "model_module_version": "1.5.0",
          "state": {
            "_dom_classes": [],
            "_model_module": "@jupyter-widgets/controls",
            "_model_module_version": "1.5.0",
            "_model_name": "HTMLModel",
            "_view_count": null,
            "_view_module": "@jupyter-widgets/controls",
            "_view_module_version": "1.5.0",
            "_view_name": "HTMLView",
            "description": "",
            "description_tooltip": null,
            "layout": "IPY_MODEL_edc9c6f3f04f4567b915f0bf72502dd4",
            "placeholder": "​",
            "style": "IPY_MODEL_85c28e17dfd74718a4d3c7f7bcf937f6",
            "value": "100%"
          }
        },
        "62b36701771d456081619c93718fa06d": {
          "model_module": "@jupyter-widgets/controls",
          "model_name": "FloatProgressModel",
          "model_module_version": "1.5.0",
          "state": {
            "_dom_classes": [],
            "_model_module": "@jupyter-widgets/controls",
            "_model_module_version": "1.5.0",
            "_model_name": "FloatProgressModel",
            "_view_count": null,
            "_view_module": "@jupyter-widgets/controls",
            "_view_module_version": "1.5.0",
            "_view_name": "ProgressView",
            "bar_style": "success",
            "description": "",
            "description_tooltip": null,
            "layout": "IPY_MODEL_fbb369a343474932add2427b87ab5a52",
            "max": 20,
            "min": 0,
            "orientation": "horizontal",
            "style": "IPY_MODEL_921c969eb0a0412d8b1b6c91ef99c5d3",
            "value": 20
          }
        },
        "8c7b6f5d89cf426db51c5fb4f81faab2": {
          "model_module": "@jupyter-widgets/controls",
          "model_name": "HTMLModel",
          "model_module_version": "1.5.0",
          "state": {
            "_dom_classes": [],
            "_model_module": "@jupyter-widgets/controls",
            "_model_module_version": "1.5.0",
            "_model_name": "HTMLModel",
            "_view_count": null,
            "_view_module": "@jupyter-widgets/controls",
            "_view_module_version": "1.5.0",
            "_view_name": "HTMLView",
            "description": "",
            "description_tooltip": null,
            "layout": "IPY_MODEL_9ffcca14c32844478ddac3e64835a6c0",
            "placeholder": "​",
            "style": "IPY_MODEL_5057ec98f18d4778af131974e2ab1e37",
            "value": " 20/20 [00:37&lt;00:00,  1.98s/it]"
          }
        },
        "4b6bd61e834d40feb2fa4597ef217da3": {
          "model_module": "@jupyter-widgets/base",
          "model_name": "LayoutModel",
          "model_module_version": "1.2.0",
          "state": {
            "_model_module": "@jupyter-widgets/base",
            "_model_module_version": "1.2.0",
            "_model_name": "LayoutModel",
            "_view_count": null,
            "_view_module": "@jupyter-widgets/base",
            "_view_module_version": "1.2.0",
            "_view_name": "LayoutView",
            "align_content": null,
            "align_items": null,
            "align_self": null,
            "border": null,
            "bottom": null,
            "display": null,
            "flex": null,
            "flex_flow": null,
            "grid_area": null,
            "grid_auto_columns": null,
            "grid_auto_flow": null,
            "grid_auto_rows": null,
            "grid_column": null,
            "grid_gap": null,
            "grid_row": null,
            "grid_template_areas": null,
            "grid_template_columns": null,
            "grid_template_rows": null,
            "height": null,
            "justify_content": null,
            "justify_items": null,
            "left": null,
            "margin": null,
            "max_height": null,
            "max_width": null,
            "min_height": null,
            "min_width": null,
            "object_fit": null,
            "object_position": null,
            "order": null,
            "overflow": null,
            "overflow_x": null,
            "overflow_y": null,
            "padding": null,
            "right": null,
            "top": null,
            "visibility": null,
            "width": null
          }
        },
        "edc9c6f3f04f4567b915f0bf72502dd4": {
          "model_module": "@jupyter-widgets/base",
          "model_name": "LayoutModel",
          "model_module_version": "1.2.0",
          "state": {
            "_model_module": "@jupyter-widgets/base",
            "_model_module_version": "1.2.0",
            "_model_name": "LayoutModel",
            "_view_count": null,
            "_view_module": "@jupyter-widgets/base",
            "_view_module_version": "1.2.0",
            "_view_name": "LayoutView",
            "align_content": null,
            "align_items": null,
            "align_self": null,
            "border": null,
            "bottom": null,
            "display": null,
            "flex": null,
            "flex_flow": null,
            "grid_area": null,
            "grid_auto_columns": null,
            "grid_auto_flow": null,
            "grid_auto_rows": null,
            "grid_column": null,
            "grid_gap": null,
            "grid_row": null,
            "grid_template_areas": null,
            "grid_template_columns": null,
            "grid_template_rows": null,
            "height": null,
            "justify_content": null,
            "justify_items": null,
            "left": null,
            "margin": null,
            "max_height": null,
            "max_width": null,
            "min_height": null,
            "min_width": null,
            "object_fit": null,
            "object_position": null,
            "order": null,
            "overflow": null,
            "overflow_x": null,
            "overflow_y": null,
            "padding": null,
            "right": null,
            "top": null,
            "visibility": null,
            "width": null
          }
        },
        "85c28e17dfd74718a4d3c7f7bcf937f6": {
          "model_module": "@jupyter-widgets/controls",
          "model_name": "DescriptionStyleModel",
          "model_module_version": "1.5.0",
          "state": {
            "_model_module": "@jupyter-widgets/controls",
            "_model_module_version": "1.5.0",
            "_model_name": "DescriptionStyleModel",
            "_view_count": null,
            "_view_module": "@jupyter-widgets/base",
            "_view_module_version": "1.2.0",
            "_view_name": "StyleView",
            "description_width": ""
          }
        },
        "fbb369a343474932add2427b87ab5a52": {
          "model_module": "@jupyter-widgets/base",
          "model_name": "LayoutModel",
          "model_module_version": "1.2.0",
          "state": {
            "_model_module": "@jupyter-widgets/base",
            "_model_module_version": "1.2.0",
            "_model_name": "LayoutModel",
            "_view_count": null,
            "_view_module": "@jupyter-widgets/base",
            "_view_module_version": "1.2.0",
            "_view_name": "LayoutView",
            "align_content": null,
            "align_items": null,
            "align_self": null,
            "border": null,
            "bottom": null,
            "display": null,
            "flex": null,
            "flex_flow": null,
            "grid_area": null,
            "grid_auto_columns": null,
            "grid_auto_flow": null,
            "grid_auto_rows": null,
            "grid_column": null,
            "grid_gap": null,
            "grid_row": null,
            "grid_template_areas": null,
            "grid_template_columns": null,
            "grid_template_rows": null,
            "height": null,
            "justify_content": null,
            "justify_items": null,
            "left": null,
            "margin": null,
            "max_height": null,
            "max_width": null,
            "min_height": null,
            "min_width": null,
            "object_fit": null,
            "object_position": null,
            "order": null,
            "overflow": null,
            "overflow_x": null,
            "overflow_y": null,
            "padding": null,
            "right": null,
            "top": null,
            "visibility": null,
            "width": null
          }
        },
        "921c969eb0a0412d8b1b6c91ef99c5d3": {
          "model_module": "@jupyter-widgets/controls",
          "model_name": "ProgressStyleModel",
          "model_module_version": "1.5.0",
          "state": {
            "_model_module": "@jupyter-widgets/controls",
            "_model_module_version": "1.5.0",
            "_model_name": "ProgressStyleModel",
            "_view_count": null,
            "_view_module": "@jupyter-widgets/base",
            "_view_module_version": "1.2.0",
            "_view_name": "StyleView",
            "bar_color": null,
            "description_width": ""
          }
        },
        "9ffcca14c32844478ddac3e64835a6c0": {
          "model_module": "@jupyter-widgets/base",
          "model_name": "LayoutModel",
          "model_module_version": "1.2.0",
          "state": {
            "_model_module": "@jupyter-widgets/base",
            "_model_module_version": "1.2.0",
            "_model_name": "LayoutModel",
            "_view_count": null,
            "_view_module": "@jupyter-widgets/base",
            "_view_module_version": "1.2.0",
            "_view_name": "LayoutView",
            "align_content": null,
            "align_items": null,
            "align_self": null,
            "border": null,
            "bottom": null,
            "display": null,
            "flex": null,
            "flex_flow": null,
            "grid_area": null,
            "grid_auto_columns": null,
            "grid_auto_flow": null,
            "grid_auto_rows": null,
            "grid_column": null,
            "grid_gap": null,
            "grid_row": null,
            "grid_template_areas": null,
            "grid_template_columns": null,
            "grid_template_rows": null,
            "height": null,
            "justify_content": null,
            "justify_items": null,
            "left": null,
            "margin": null,
            "max_height": null,
            "max_width": null,
            "min_height": null,
            "min_width": null,
            "object_fit": null,
            "object_position": null,
            "order": null,
            "overflow": null,
            "overflow_x": null,
            "overflow_y": null,
            "padding": null,
            "right": null,
            "top": null,
            "visibility": null,
            "width": null
          }
        },
        "5057ec98f18d4778af131974e2ab1e37": {
          "model_module": "@jupyter-widgets/controls",
          "model_name": "DescriptionStyleModel",
          "model_module_version": "1.5.0",
          "state": {
            "_model_module": "@jupyter-widgets/controls",
            "_model_module_version": "1.5.0",
            "_model_name": "DescriptionStyleModel",
            "_view_count": null,
            "_view_module": "@jupyter-widgets/base",
            "_view_module_version": "1.2.0",
            "_view_name": "StyleView",
            "description_width": ""
          }
        }
      }
    },
    "accelerator": "GPU"
  },
  "nbformat": 4,
  "nbformat_minor": 0
}